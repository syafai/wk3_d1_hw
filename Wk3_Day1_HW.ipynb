{
 "cells": [
  {
   "cell_type": "markdown",
   "id": "40e45edd",
   "metadata": {},
   "source": [
    "# Exercise #1\n",
    "#Filter out all of the empty strings from the list below"
   ]
  },
  {
   "cell_type": "code",
   "execution_count": 11,
   "id": "be029e25",
   "metadata": {},
   "outputs": [
    {
     "name": "stdout",
     "output_type": "stream",
     "text": [
      "['Argentina', 'San Diego', 'Boston', 'New York']\n"
     ]
    }
   ],
   "source": [
    "places = [\" \",\"Argentina\", \" \", \"San Diego\",\"\",\"  \",\"\",\"Boston\",\"New York\"]\n",
    "\n",
    "def a_names(places):\n",
    "    a_list = []\n",
    "    if places.strip() != '':\n",
    "        a_list.append(places)\n",
    "    return a_list\n",
    "\n",
    "new_names_list = list(filter(a_names, places))\n",
    "print(new_names_list)\n",
    "\n"
   ]
  },
  {
   "cell_type": "markdown",
   "id": "8bf9af7e",
   "metadata": {},
   "source": [
    "# Exercise #2\n",
    "#Write an anonymous function that sorts this list by the last name...\n",
    "#Hint: Use the \".sort()\" method and access the key\""
   ]
  },
  {
   "cell_type": "code",
   "execution_count": 50,
   "id": "0eefa6db",
   "metadata": {},
   "outputs": [
    {
     "name": "stdout",
     "output_type": "stream",
     "text": [
      "['Victor aNisimov', 'Gary A.J. Bernstein', 'Joel Carter', 'Andrew P. Garfield', 'David hassELHOFF']\n"
     ]
    }
   ],
   "source": [
    "\n",
    "def last_name(elem):\n",
    "    return elem.split()[-1].lower()\n",
    "\n",
    "author = [\"Joel Carter\", \"Victor aNisimov\", \"Andrew P. Garfield\",\"David hassELHOFF\",\"Gary A.J. Bernstein\"]\n",
    "\n",
    "author.sort(key=last_name)\n",
    "print(author)"
   ]
  },
  {
   "cell_type": "markdown",
   "id": "52ae666b",
   "metadata": {},
   "source": [
    "# Exercise #3\n",
    "#Convert the list below from Celsius to Farhenheit, using the map function with a lambda..."
   ]
  },
  {
   "cell_type": "code",
   "execution_count": 75,
   "id": "b2179cb3",
   "metadata": {},
   "outputs": [
    {
     "name": "stdout",
     "output_type": "stream",
     "text": [
      "[('Nashua', 89.6), ('Boston', 53.6), ('Los Angelos', 111.2), ('Miami', 84.2)]\n"
     ]
    }
   ],
   "source": [
    "# F = (9/5)*C + 32\n",
    "#def convert(c):\n",
    "#     return (9/5)*c + 32\n",
    "\n",
    "places = [('Nashua',32),(\"Boston\",12),(\"Los Angelos\",44),(\"Miami\",29)]\n",
    "\n",
    "new_places = list(map(lambda x: (x[0], (x[1] * 9/5) + 32), places))\n",
    "print(new_places)\n"
   ]
  },
  {
   "cell_type": "markdown",
   "id": "7428d2b2",
   "metadata": {},
   "source": [
    "# Exercise #4\n",
    "#Create a generator function that individually returns each movie genre back from the list"
   ]
  },
  {
   "cell_type": "code",
   "execution_count": 15,
   "id": "1e742de1",
   "metadata": {},
   "outputs": [],
   "source": [
    "genres = [\"adventure\", \"drama\", \"horror\", \"comedy\", \"action\", \"romance\"]\n",
    "\n",
    "\n",
    "def movie_genres():\n",
    "    \n",
    "    for genre in genres:\n",
    "        yield genre\n",
    "\n",
    "\n",
    "\n",
    "\n"
   ]
  },
  {
   "cell_type": "code",
   "execution_count": 16,
   "id": "99dc01b3",
   "metadata": {},
   "outputs": [],
   "source": [
    "\n",
    "netflix = movie_genres()\n"
   ]
  },
  {
   "cell_type": "code",
   "execution_count": 17,
   "id": "dcd95295",
   "metadata": {},
   "outputs": [
    {
     "ename": "TypeError",
     "evalue": "'str' object is not an iterator",
     "output_type": "error",
     "traceback": [
      "\u001b[1;31m---------------------------------------------------------------------------\u001b[0m",
      "\u001b[1;31mTypeError\u001b[0m                                 Traceback (most recent call last)",
      "Cell \u001b[1;32mIn[17], line 1\u001b[0m\n\u001b[1;32m----> 1\u001b[0m \u001b[38;5;28mprint\u001b[39m(\u001b[38;5;28;43mnext\u001b[39;49m\u001b[43m(\u001b[49m\u001b[43mnetflix\u001b[49m\u001b[43m)\u001b[49m)\n",
      "\u001b[1;31mTypeError\u001b[0m: 'str' object is not an iterator"
     ]
    }
   ],
   "source": [
    "print(next(netflix))"
   ]
  },
  {
   "cell_type": "code",
   "execution_count": null,
   "id": "b55d9953",
   "metadata": {},
   "outputs": [],
   "source": []
  }
 ],
 "metadata": {
  "kernelspec": {
   "display_name": "Python 3 (ipykernel)",
   "language": "python",
   "name": "python3"
  },
  "language_info": {
   "codemirror_mode": {
    "name": "ipython",
    "version": 3
   },
   "file_extension": ".py",
   "mimetype": "text/x-python",
   "name": "python",
   "nbconvert_exporter": "python",
   "pygments_lexer": "ipython3",
   "version": "3.10.9"
  }
 },
 "nbformat": 4,
 "nbformat_minor": 5
}
